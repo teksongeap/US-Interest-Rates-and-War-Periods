{
 "cells": [
  {
   "cell_type": "code",
   "execution_count": 10,
   "id": "ce66b1e1",
   "metadata": {
    "_cell_guid": "b1076dfc-b9ad-4769-8c92-a6c4dae69d19",
    "_uuid": "8f2839f25d086af736a60e9eeb907d3b93b6e0e5",
    "execution": {
     "iopub.execute_input": "2024-04-17T04:34:56.312901Z",
     "iopub.status.busy": "2024-04-17T04:34:56.312294Z",
     "iopub.status.idle": "2024-04-17T04:34:57.128216Z",
     "shell.execute_reply": "2024-04-17T04:34:57.126190Z"
    },
    "papermill": {
     "duration": 0.824622,
     "end_time": "2024-04-17T04:34:57.131401",
     "exception": false,
     "start_time": "2024-04-17T04:34:56.306779",
     "status": "completed"
    },
    "tags": []
   },
   "outputs": [],
   "source": [
    "import numpy as np # linear algebra\n",
    "import pandas as pd # data processing, CSV file I/O (e.g. pd.read_csv)\n",
    "import matplotlib.pyplot as plt\n"
   ]
  },
  {
   "cell_type": "code",
   "execution_count": 11,
   "id": "e19b2103",
   "metadata": {
    "execution": {
     "iopub.execute_input": "2024-04-17T04:34:57.139767Z",
     "iopub.status.busy": "2024-04-17T04:34:57.139305Z",
     "iopub.status.idle": "2024-04-17T04:34:57.168367Z",
     "shell.execute_reply": "2024-04-17T04:34:57.167552Z"
    },
    "papermill": {
     "duration": 0.035638,
     "end_time": "2024-04-17T04:34:57.170687",
     "exception": false,
     "start_time": "2024-04-17T04:34:57.135049",
     "status": "completed"
    },
    "tags": []
   },
   "outputs": [
    {
     "data": {
      "text/html": [
       "<div>\n",
       "<style scoped>\n",
       "    .dataframe tbody tr th:only-of-type {\n",
       "        vertical-align: middle;\n",
       "    }\n",
       "\n",
       "    .dataframe tbody tr th {\n",
       "        vertical-align: top;\n",
       "    }\n",
       "\n",
       "    .dataframe thead th {\n",
       "        text-align: right;\n",
       "    }\n",
       "</style>\n",
       "<table border=\"1\" class=\"dataframe\">\n",
       "  <thead>\n",
       "    <tr style=\"text-align: right;\">\n",
       "      <th></th>\n",
       "      <th>date</th>\n",
       "      <th>value</th>\n",
       "    </tr>\n",
       "  </thead>\n",
       "  <tbody>\n",
       "    <tr>\n",
       "      <th>0</th>\n",
       "      <td>1954-07-01</td>\n",
       "      <td>0.80</td>\n",
       "    </tr>\n",
       "    <tr>\n",
       "      <th>1</th>\n",
       "      <td>1954-08-01</td>\n",
       "      <td>1.22</td>\n",
       "    </tr>\n",
       "    <tr>\n",
       "      <th>2</th>\n",
       "      <td>1954-09-01</td>\n",
       "      <td>1.07</td>\n",
       "    </tr>\n",
       "    <tr>\n",
       "      <th>3</th>\n",
       "      <td>1954-10-01</td>\n",
       "      <td>0.85</td>\n",
       "    </tr>\n",
       "    <tr>\n",
       "      <th>4</th>\n",
       "      <td>1954-11-01</td>\n",
       "      <td>0.83</td>\n",
       "    </tr>\n",
       "  </tbody>\n",
       "</table>\n",
       "</div>"
      ],
      "text/plain": [
       "         date  value\n",
       "0  1954-07-01   0.80\n",
       "1  1954-08-01   1.22\n",
       "2  1954-09-01   1.07\n",
       "3  1954-10-01   0.85\n",
       "4  1954-11-01   0.83"
      ]
     },
     "execution_count": 11,
     "metadata": {},
     "output_type": "execute_result"
    }
   ],
   "source": [
    "df = pd.read_csv(r\"federal_funds_rate.csv\")\n",
    "df.head()"
   ]
  },
  {
   "cell_type": "code",
   "execution_count": 12,
   "id": "546e28fb",
   "metadata": {
    "execution": {
     "iopub.execute_input": "2024-04-17T04:34:57.179472Z",
     "iopub.status.busy": "2024-04-17T04:34:57.178865Z",
     "iopub.status.idle": "2024-04-17T04:34:57.186443Z",
     "shell.execute_reply": "2024-04-17T04:34:57.185301Z"
    },
    "papermill": {
     "duration": 0.014417,
     "end_time": "2024-04-17T04:34:57.188628",
     "exception": false,
     "start_time": "2024-04-17T04:34:57.174211",
     "status": "completed"
    },
    "tags": []
   },
   "outputs": [
    {
     "data": {
      "text/plain": [
       "date      object\n",
       "value    float64\n",
       "dtype: object"
      ]
     },
     "execution_count": 12,
     "metadata": {},
     "output_type": "execute_result"
    }
   ],
   "source": [
    "df.dtypes"
   ]
  },
  {
   "cell_type": "code",
   "execution_count": 13,
   "id": "7b0995e2",
   "metadata": {
    "execution": {
     "iopub.execute_input": "2024-04-17T04:34:57.197098Z",
     "iopub.status.busy": "2024-04-17T04:34:57.196592Z",
     "iopub.status.idle": "2024-04-17T04:34:57.206431Z",
     "shell.execute_reply": "2024-04-17T04:34:57.205461Z"
    },
    "papermill": {
     "duration": 0.016328,
     "end_time": "2024-04-17T04:34:57.208419",
     "exception": false,
     "start_time": "2024-04-17T04:34:57.192091",
     "status": "completed"
    },
    "tags": []
   },
   "outputs": [],
   "source": [
    "df['date'] = pd.to_datetime(df['date'], format='%Y-%m-%d')"
   ]
  },
  {
   "cell_type": "code",
   "execution_count": 14,
   "id": "c985dd43",
   "metadata": {
    "execution": {
     "iopub.execute_input": "2024-04-17T04:34:57.217016Z",
     "iopub.status.busy": "2024-04-17T04:34:57.216450Z",
     "iopub.status.idle": "2024-04-17T04:34:57.223137Z",
     "shell.execute_reply": "2024-04-17T04:34:57.222416Z"
    },
    "papermill": {
     "duration": 0.012874,
     "end_time": "2024-04-17T04:34:57.224954",
     "exception": false,
     "start_time": "2024-04-17T04:34:57.212080",
     "status": "completed"
    },
    "tags": []
   },
   "outputs": [],
   "source": [
    "wars = [\n",
    "    ('1955-11-01', '1975-04-30'),  # Vietnam War\n",
    "    ('1961-04-17', '1961-04-19'),  # Bay of Pigs Invasion\n",
    "    ('1965-07-28', '1965-07-28'),  # U.S. Dominican Intervention\n",
    "    ('1982-06-06', '1982-06-06'),  # Lebanon War\n",
    "    ('1983-10-25', '1983-12-15'),  # Invasion of Grenada\n",
    "    ('1989-12-20', '1990-01-31'),  # U.S. Invasion of Panama\n",
    "    ('1990-08-02', '1991-02-28'),  # Gulf War\n",
    "    ('1992-12-08', '1992-12-08'),  # U.S. Intervention in Somalia\n",
    "    ('1994-09-19', '1994-09-19'),  # Operation Uphold Democracy (Haiti)\n",
    "    ('1994-09-19', '1995-03-31'),  # Operation Uphold Democracy (Haiti)\n",
    "    ('1999-03-24', '1999-06-10'),  # Kosovo War\n",
    "    ('2001-10-07', '2014-12-28'),  # War in Afghanistan\n",
    "    ('2003-03-20', '2011-12-18'),  # Iraq War\n",
    "    ('2011-03-19', '2011-10-31'),  # Operation Odyssey Dawn (Libya)\n",
    "    ('2014-06-15', '2021-12-18'),  # U.S. Intervention in Iraq\n",
    "    ('2014-09-22', '2022-12-31'),  # U.S. Intervention in Syria\n",
    "]\n",
    "\n",
    "def is_war_period(date):\n",
    "    date = pd.to_datetime(date)  # Convert date to Timestamp\n",
    "    for start, end in wars:\n",
    "        if pd.to_datetime(start) <= date <= pd.to_datetime(end):\n",
    "            return True\n",
    "    return False"
   ]
  },
  {
   "cell_type": "code",
   "execution_count": 15,
   "id": "d1a7966e",
   "metadata": {
    "execution": {
     "iopub.execute_input": "2024-04-17T04:34:57.233499Z",
     "iopub.status.busy": "2024-04-17T04:34:57.232905Z",
     "iopub.status.idle": "2024-04-17T04:35:03.659267Z",
     "shell.execute_reply": "2024-04-17T04:35:03.658186Z"
    },
    "papermill": {
     "duration": 6.433098,
     "end_time": "2024-04-17T04:35:03.661435",
     "exception": false,
     "start_time": "2024-04-17T04:34:57.228337",
     "status": "completed"
    },
    "tags": []
   },
   "outputs": [
    {
     "data": {
      "text/html": [
       "<div>\n",
       "<style scoped>\n",
       "    .dataframe tbody tr th:only-of-type {\n",
       "        vertical-align: middle;\n",
       "    }\n",
       "\n",
       "    .dataframe tbody tr th {\n",
       "        vertical-align: top;\n",
       "    }\n",
       "\n",
       "    .dataframe thead th {\n",
       "        text-align: right;\n",
       "    }\n",
       "</style>\n",
       "<table border=\"1\" class=\"dataframe\">\n",
       "  <thead>\n",
       "    <tr style=\"text-align: right;\">\n",
       "      <th></th>\n",
       "      <th>date</th>\n",
       "      <th>value</th>\n",
       "      <th>war</th>\n",
       "    </tr>\n",
       "  </thead>\n",
       "  <tbody>\n",
       "    <tr>\n",
       "      <th>0</th>\n",
       "      <td>1954-07-01</td>\n",
       "      <td>0.80</td>\n",
       "      <td>False</td>\n",
       "    </tr>\n",
       "    <tr>\n",
       "      <th>1</th>\n",
       "      <td>1954-08-01</td>\n",
       "      <td>1.22</td>\n",
       "      <td>False</td>\n",
       "    </tr>\n",
       "    <tr>\n",
       "      <th>2</th>\n",
       "      <td>1954-09-01</td>\n",
       "      <td>1.07</td>\n",
       "      <td>False</td>\n",
       "    </tr>\n",
       "    <tr>\n",
       "      <th>3</th>\n",
       "      <td>1954-10-01</td>\n",
       "      <td>0.85</td>\n",
       "      <td>False</td>\n",
       "    </tr>\n",
       "    <tr>\n",
       "      <th>4</th>\n",
       "      <td>1954-11-01</td>\n",
       "      <td>0.83</td>\n",
       "      <td>False</td>\n",
       "    </tr>\n",
       "  </tbody>\n",
       "</table>\n",
       "</div>"
      ],
      "text/plain": [
       "        date  value    war\n",
       "0 1954-07-01   0.80  False\n",
       "1 1954-08-01   1.22  False\n",
       "2 1954-09-01   1.07  False\n",
       "3 1954-10-01   0.85  False\n",
       "4 1954-11-01   0.83  False"
      ]
     },
     "execution_count": 15,
     "metadata": {},
     "output_type": "execute_result"
    }
   ],
   "source": [
    "df['war'] = df['date'].apply(is_war_period)\n",
    "df.head()"
   ]
  },
  {
   "cell_type": "code",
   "execution_count": 16,
   "id": "82463b9b",
   "metadata": {
    "execution": {
     "iopub.execute_input": "2024-04-17T04:35:03.670513Z",
     "iopub.status.busy": "2024-04-17T04:35:03.669855Z",
     "iopub.status.idle": "2024-04-17T04:35:04.139565Z",
     "shell.execute_reply": "2024-04-17T04:35:04.138785Z"
    },
    "papermill": {
     "duration": 0.476541,
     "end_time": "2024-04-17T04:35:04.141882",
     "exception": false,
     "start_time": "2024-04-17T04:35:03.665341",
     "status": "completed"
    },
    "tags": []
   },
   "outputs": [
    {
     "data": {
      "image/png": "[encoded data removed]",
      "text/plain": [
       "<Figure size 1200x600 with 1 Axes>"
      ]
     },
     "metadata": {},
     "output_type": "display_data"
    }
   ],
   "source": [
    "plt.figure(figsize=(12, 6))\n",
    "\n",
    "plt.plot(df['date'], df['value'])\n",
    "\n",
    "for start, end in wars:\n",
    "    plt.axvspan(start, end, color='red', alpha=0.3)\n",
    "\n",
    "plt.xlabel('Date')\n",
    "plt.xticks(rotation=45)\n",
    "plt.ylabel('Federal Funds Rate')\n",
    "plt.title('Interest Rates and War Periods')\n",
    "plt.grid(True)\n",
    "plt.show()"
   ]
  },
  {
   "cell_type": "code",
   "execution_count": 17,
   "id": "5c0bbd34",
   "metadata": {
    "execution": {
     "iopub.execute_input": "2024-04-17T04:35:04.153651Z",
     "iopub.status.busy": "2024-04-17T04:35:04.153288Z",
     "iopub.status.idle": "2024-04-17T04:35:04.483058Z",
     "shell.execute_reply": "2024-04-17T04:35:04.481756Z"
    },
    "papermill": {
     "duration": 0.338411,
     "end_time": "2024-04-17T04:35:04.484997",
     "exception": true,
     "start_time": "2024-04-17T04:35:04.146586",
     "status": "failed"
    },
    "tags": []
   },
   "outputs": [
    {
     "name": "stderr",
     "output_type": "stream",
     "text": [
      "C:\\Users\\tekso\\AppData\\Local\\Temp\\ipykernel_20000\\135306218.py:30: FutureWarning: The behavior of DataFrame concatenation with empty or all-NA entries is deprecated. In a future version, this will no longer exclude empty or all-NA columns when determining the result dtypes. To retain the old behavior, exclude the relevant entries before the concat operation.\n",
      "  results = pd.concat([results, new_row], ignore_index=True)\n"
     ]
    }
   ],
   "source": [
    "# Initialize an empty DataFrame with the desired column names\n",
    "results = pd.DataFrame(columns=['War', 'Start Date', 'End Date', 'Start Rate', 'End Rate', 'Change'])\n",
    "\n",
    "for start, end in wars:\n",
    "    start_date = pd.to_datetime(start)\n",
    "    end_date = pd.to_datetime(end)\n",
    "    \n",
    "    nearest_start_date = df.loc[df['date'] <= start_date, 'date'].max()\n",
    "    nearest_end_date = df.loc[df['date'] >= end_date, 'date'].min()\n",
    "    \n",
    "    if pd.isnull(nearest_start_date) or pd.isnull(nearest_end_date):\n",
    "        print(f\"No matching dates found for the war period: {start} - {end}\")\n",
    "        continue\n",
    "    \n",
    "    start_rate = df.loc[df['date'] == nearest_start_date, 'value'].values[0]\n",
    "    end_rate = df.loc[df['date'] == nearest_end_date, 'value'].values[0]\n",
    "    \n",
    "    change = end_rate - start_rate\n",
    "    \n",
    "    new_row = pd.DataFrame({\n",
    "        'War': [f\"{start} - {end}\"],\n",
    "        'Start Date': [nearest_start_date],\n",
    "        'End Date': [nearest_end_date],\n",
    "        'Start Rate': [start_rate],\n",
    "        'End Rate': [end_rate],\n",
    "        'Change': [change]\n",
    "    })\n",
    "    new_row = new_row.dropna(how='all')\n",
    "    \n",
    "    results = pd.concat([results, new_row], ignore_index=True)"
   ]
  },
  {
   "cell_type": "code",
   "execution_count": 18,
   "id": "5f98ae44",
   "metadata": {
    "execution": {
     "iopub.execute_input": "2024-04-17T03:48:23.937917Z",
     "iopub.status.busy": "2024-04-17T03:48:23.936718Z",
     "iopub.status.idle": "2024-04-17T03:48:23.956939Z",
     "shell.execute_reply": "2024-04-17T03:48:23.955959Z",
     "shell.execute_reply.started": "2024-04-17T03:48:23.937871Z"
    },
    "papermill": {
     "duration": null,
     "end_time": null,
     "exception": null,
     "start_time": null,
     "status": "pending"
    },
    "tags": []
   },
   "outputs": [
    {
     "name": "stdout",
     "output_type": "stream",
     "text": [
      "                        War Start Date   End Date  Start Rate  End Rate  Change\n",
      "0   1955-11-01 - 1975-04-30 1955-11-01 1975-05-01        2.35      5.22    2.87\n",
      "1   1961-04-17 - 1961-04-19 1961-04-01 1961-05-01        1.49      1.98    0.49\n",
      "2   1965-07-28 - 1965-07-28 1965-07-01 1965-08-01        4.09      4.12    0.03\n",
      "3   1982-06-06 - 1982-06-06 1982-06-01 1982-07-01       14.15     12.59   -1.56\n",
      "4   1983-10-25 - 1983-12-15 1983-10-01 1984-01-01        9.48      9.56    0.08\n",
      "5   1989-12-20 - 1990-01-31 1989-12-01 1990-02-01        8.45      8.24   -0.21\n",
      "6   1990-08-02 - 1991-02-28 1990-08-01 1991-03-01        8.13      6.12   -2.01\n",
      "7   1992-12-08 - 1992-12-08 1992-12-01 1993-01-01        2.92      3.02    0.10\n",
      "8   1994-09-19 - 1994-09-19 1994-09-01 1994-10-01        4.73      4.76    0.03\n",
      "9   1994-09-19 - 1995-03-31 1994-09-01 1995-04-01        4.73      6.05    1.32\n",
      "10  1999-03-24 - 1999-06-10 1999-03-01 1999-07-01        4.81      4.99    0.18\n",
      "11  2001-10-07 - 2014-12-28 2001-10-01 2015-01-01        2.49      0.11   -2.38\n",
      "12  2003-03-20 - 2011-12-18 2003-03-01 2012-01-01        1.25      0.08   -1.17\n",
      "13  2011-03-19 - 2011-10-31 2011-03-01 2011-11-01        0.14      0.08   -0.06\n",
      "14  2014-06-15 - 2021-12-18 2014-06-01 2022-01-01        0.10      0.08   -0.02\n",
      "15  2014-09-22 - 2022-12-31 2014-09-01 2023-01-01        0.09      4.33    4.24\n",
      "Average change in federal funds rate during war periods: 0.1206249999999999\n",
      "Minimum change in federal funds rate during war periods: -2.3800000000000003\n",
      "Maximum change in federal funds rate during war periods: 4.24\n"
     ]
    }
   ],
   "source": [
    "results = results.drop_duplicates(subset=['War'])\n",
    "print(results.to_string())\n",
    "print(\"Average change in federal funds rate during war periods:\", results['Change'].mean())\n",
    "print(\"Minimum change in federal funds rate during war periods:\", results['Change'].min())\n",
    "print(\"Maximum change in federal funds rate during war periods:\", results['Change'].max())"
   ]
  }
 ],
 "metadata": {
  "kaggle": {
   "accelerator": "none",
   "dataSources": [
    {
     "datasetId": 3572738,
     "sourceId": 6220867,
     "sourceType": "datasetVersion"
    }
   ],
   "dockerImageVersionId": 30684,
   "isGpuEnabled": false,
   "isInternetEnabled": true,
   "language": "python",
   "sourceType": "notebook"
  },
  "kernelspec": {
   "display_name": "Python 3",
   "language": "python",
   "name": "python3"
  },
  "language_info": {
   "codemirror_mode": {
    "name": "ipython",
    "version": 3
   },
   "file_extension": ".py",
   "mimetype": "text/x-python",
   "name": "python",
   "nbconvert_exporter": "python",
   "pygments_lexer": "ipython3",
   "version": "3.12.3"
  },
  "papermill": {
   "default_parameters": {},
   "duration": 11.362237,
   "end_time": "2024-04-17T04:35:05.010370",
   "environment_variables": {},
   "exception": true,
   "input_path": "__notebook__.ipynb",
   "output_path": "__notebook__.ipynb",
   "parameters": {},
   "start_time": "2024-04-17T04:34:53.648133",
   "version": "2.5.0"
  }
 },
 "nbformat": 4,
 "nbformat_minor": 5
}
